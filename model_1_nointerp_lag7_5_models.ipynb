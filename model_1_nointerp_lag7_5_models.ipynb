{
  "nbformat": 4,
  "nbformat_minor": 0,
  "metadata": {
    "colab": {
      "provenance": [],
      "authorship_tag": "ABX9TyNKt3U1Yvrzgct6XojoTORi",
      "include_colab_link": true
    },
    "kernelspec": {
      "name": "python3",
      "display_name": "Python 3"
    },
    "language_info": {
      "name": "python"
    }
  },
  "cells": [
    {
      "cell_type": "markdown",
      "metadata": {
        "id": "view-in-github",
        "colab_type": "text"
      },
      "source": [
        "<a href=\"https://colab.research.google.com/github/JidaphaMekon/Opportunities-for-Pioneering-Practices-in-AI-Workshop/blob/main/model_1_nointerp_lag7_5_models.ipynb\" target=\"_parent\"><img src=\"https://colab.research.google.com/assets/colab-badge.svg\" alt=\"Open In Colab\"/></a>"
      ]
    },
    {
      "cell_type": "markdown",
      "source": [
        "| ขั้นตอน | รายละเอียด                                     |\n",
        "| ------- | ---------------------------------------------- |\n",
        "| 1       | รวบรวมหุ้นหลายตัว (AAPL, MSFT, TSLA, …)        |\n",
        "| 2       | ตรวจวันหยุดตลาด + Interpolation (3 วิธี)       |\n",
        "| 3       | สร้าง features (Lag7, SMA, EMA, BB, RSI, MACD) |\n",
        "| 4       | Scaling train เท่านั้น                         |\n",
        "| 5       | ใช้ TimeSeriesSplit หรือ Sliding 70/15/15      |\n",
        "| 6       | Train หลายโมเดล (Linear, XGB, LSTM, Prophet)   |\n",
        "| 7       | เก็บ RMSE, R² ลง DataFrame                     |\n",
        "| 8       | สรุปเปรียบเทียบผลลัพธ์                         |\n"
      ],
      "metadata": {
        "id": "l9X4g2U9pd_2"
      }
    },
    {
      "cell_type": "code",
      "execution_count": null,
      "metadata": {
        "id": "FngiNcp8l2Jy",
        "colab": {
          "base_uri": "https://localhost:8080/"
        },
        "outputId": "513bbb6d-0085-429e-a951-459cc5255c81"
      },
      "outputs": [
        {
          "output_type": "stream",
          "name": "stdout",
          "text": [
            "Collecting pandas_market_calendars\n",
            "  Downloading pandas_market_calendars-5.1.1-py3-none-any.whl.metadata (9.7 kB)\n",
            "Requirement already satisfied: pandas>=1.1 in /usr/local/lib/python3.12/dist-packages (from pandas_market_calendars) (2.2.2)\n",
            "Requirement already satisfied: tzdata in /usr/local/lib/python3.12/dist-packages (from pandas_market_calendars) (2025.2)\n",
            "Requirement already satisfied: python-dateutil in /usr/local/lib/python3.12/dist-packages (from pandas_market_calendars) (2.9.0.post0)\n",
            "Collecting exchange-calendars>=3.3 (from pandas_market_calendars)\n",
            "  Downloading exchange_calendars-4.11.1-py3-none-any.whl.metadata (38 kB)\n",
            "Requirement already satisfied: numpy in /usr/local/lib/python3.12/dist-packages (from exchange-calendars>=3.3->pandas_market_calendars) (2.0.2)\n",
            "Collecting pyluach (from exchange-calendars>=3.3->pandas_market_calendars)\n",
            "  Downloading pyluach-2.3.0-py3-none-any.whl.metadata (4.3 kB)\n",
            "Requirement already satisfied: toolz in /usr/local/lib/python3.12/dist-packages (from exchange-calendars>=3.3->pandas_market_calendars) (0.12.1)\n",
            "Collecting korean_lunar_calendar (from exchange-calendars>=3.3->pandas_market_calendars)\n",
            "  Downloading korean_lunar_calendar-0.3.1-py3-none-any.whl.metadata (2.8 kB)\n",
            "Requirement already satisfied: pytz>=2020.1 in /usr/local/lib/python3.12/dist-packages (from pandas>=1.1->pandas_market_calendars) (2025.2)\n",
            "Requirement already satisfied: six>=1.5 in /usr/local/lib/python3.12/dist-packages (from python-dateutil->pandas_market_calendars) (1.17.0)\n",
            "Downloading pandas_market_calendars-5.1.1-py3-none-any.whl (127 kB)\n",
            "\u001b[2K   \u001b[90m━━━━━━━━━━━━━━━━━━━━━━━━━━━━━━━━━━━━━━━━\u001b[0m \u001b[32m127.4/127.4 kB\u001b[0m \u001b[31m6.5 MB/s\u001b[0m eta \u001b[36m0:00:00\u001b[0m\n",
            "\u001b[?25hDownloading exchange_calendars-4.11.1-py3-none-any.whl (208 kB)\n",
            "\u001b[2K   \u001b[90m━━━━━━━━━━━━━━━━━━━━━━━━━━━━━━━━━━━━━━━━\u001b[0m \u001b[32m208.9/208.9 kB\u001b[0m \u001b[31m17.1 MB/s\u001b[0m eta \u001b[36m0:00:00\u001b[0m\n",
            "\u001b[?25hDownloading korean_lunar_calendar-0.3.1-py3-none-any.whl (9.0 kB)\n",
            "Downloading pyluach-2.3.0-py3-none-any.whl (25 kB)\n",
            "Installing collected packages: korean_lunar_calendar, pyluach, exchange-calendars, pandas_market_calendars\n",
            "Successfully installed exchange-calendars-4.11.1 korean_lunar_calendar-0.3.1 pandas_market_calendars-5.1.1 pyluach-2.3.0\n",
            "Requirement already satisfied: yfinance in /usr/local/lib/python3.12/dist-packages (0.2.66)\n",
            "Requirement already satisfied: scikit-learn in /usr/local/lib/python3.12/dist-packages (1.6.1)\n",
            "Requirement already satisfied: xgboost in /usr/local/lib/python3.12/dist-packages (3.0.5)\n",
            "Requirement already satisfied: matplotlib in /usr/local/lib/python3.12/dist-packages (3.10.0)\n",
            "Requirement already satisfied: pandas>=1.3.0 in /usr/local/lib/python3.12/dist-packages (from yfinance) (2.2.2)\n",
            "Requirement already satisfied: numpy>=1.16.5 in /usr/local/lib/python3.12/dist-packages (from yfinance) (2.0.2)\n",
            "Requirement already satisfied: requests>=2.31 in /usr/local/lib/python3.12/dist-packages (from yfinance) (2.32.4)\n",
            "Requirement already satisfied: multitasking>=0.0.7 in /usr/local/lib/python3.12/dist-packages (from yfinance) (0.0.12)\n",
            "Requirement already satisfied: platformdirs>=2.0.0 in /usr/local/lib/python3.12/dist-packages (from yfinance) (4.4.0)\n",
            "Requirement already satisfied: pytz>=2022.5 in /usr/local/lib/python3.12/dist-packages (from yfinance) (2025.2)\n",
            "Requirement already satisfied: frozendict>=2.3.4 in /usr/local/lib/python3.12/dist-packages (from yfinance) (2.4.6)\n",
            "Requirement already satisfied: peewee>=3.16.2 in /usr/local/lib/python3.12/dist-packages (from yfinance) (3.18.2)\n",
            "Requirement already satisfied: beautifulsoup4>=4.11.1 in /usr/local/lib/python3.12/dist-packages (from yfinance) (4.13.5)\n",
            "Requirement already satisfied: curl_cffi>=0.7 in /usr/local/lib/python3.12/dist-packages (from yfinance) (0.13.0)\n",
            "Requirement already satisfied: protobuf>=3.19.0 in /usr/local/lib/python3.12/dist-packages (from yfinance) (5.29.5)\n",
            "Requirement already satisfied: websockets>=13.0 in /usr/local/lib/python3.12/dist-packages (from yfinance) (15.0.1)\n",
            "Requirement already satisfied: scipy>=1.6.0 in /usr/local/lib/python3.12/dist-packages (from scikit-learn) (1.16.2)\n",
            "Requirement already satisfied: joblib>=1.2.0 in /usr/local/lib/python3.12/dist-packages (from scikit-learn) (1.5.2)\n",
            "Requirement already satisfied: threadpoolctl>=3.1.0 in /usr/local/lib/python3.12/dist-packages (from scikit-learn) (3.6.0)\n",
            "Requirement already satisfied: nvidia-nccl-cu12 in /usr/local/lib/python3.12/dist-packages (from xgboost) (2.27.3)\n",
            "Requirement already satisfied: contourpy>=1.0.1 in /usr/local/lib/python3.12/dist-packages (from matplotlib) (1.3.3)\n",
            "Requirement already satisfied: cycler>=0.10 in /usr/local/lib/python3.12/dist-packages (from matplotlib) (0.12.1)\n",
            "Requirement already satisfied: fonttools>=4.22.0 in /usr/local/lib/python3.12/dist-packages (from matplotlib) (4.60.1)\n",
            "Requirement already satisfied: kiwisolver>=1.3.1 in /usr/local/lib/python3.12/dist-packages (from matplotlib) (1.4.9)\n",
            "Requirement already satisfied: packaging>=20.0 in /usr/local/lib/python3.12/dist-packages (from matplotlib) (25.0)\n",
            "Requirement already satisfied: pillow>=8 in /usr/local/lib/python3.12/dist-packages (from matplotlib) (11.3.0)\n",
            "Requirement already satisfied: pyparsing>=2.3.1 in /usr/local/lib/python3.12/dist-packages (from matplotlib) (3.2.5)\n",
            "Requirement already satisfied: python-dateutil>=2.7 in /usr/local/lib/python3.12/dist-packages (from matplotlib) (2.9.0.post0)\n",
            "Requirement already satisfied: soupsieve>1.2 in /usr/local/lib/python3.12/dist-packages (from beautifulsoup4>=4.11.1->yfinance) (2.8)\n",
            "Requirement already satisfied: typing-extensions>=4.0.0 in /usr/local/lib/python3.12/dist-packages (from beautifulsoup4>=4.11.1->yfinance) (4.15.0)\n",
            "Requirement already satisfied: cffi>=1.12.0 in /usr/local/lib/python3.12/dist-packages (from curl_cffi>=0.7->yfinance) (2.0.0)\n",
            "Requirement already satisfied: certifi>=2024.2.2 in /usr/local/lib/python3.12/dist-packages (from curl_cffi>=0.7->yfinance) (2025.8.3)\n",
            "Requirement already satisfied: tzdata>=2022.7 in /usr/local/lib/python3.12/dist-packages (from pandas>=1.3.0->yfinance) (2025.2)\n",
            "Requirement already satisfied: six>=1.5 in /usr/local/lib/python3.12/dist-packages (from python-dateutil>=2.7->matplotlib) (1.17.0)\n",
            "Requirement already satisfied: charset_normalizer<4,>=2 in /usr/local/lib/python3.12/dist-packages (from requests>=2.31->yfinance) (3.4.3)\n",
            "Requirement already satisfied: idna<4,>=2.5 in /usr/local/lib/python3.12/dist-packages (from requests>=2.31->yfinance) (3.10)\n",
            "Requirement already satisfied: urllib3<3,>=1.21.1 in /usr/local/lib/python3.12/dist-packages (from requests>=2.31->yfinance) (2.5.0)\n",
            "Requirement already satisfied: pycparser in /usr/local/lib/python3.12/dist-packages (from cffi>=1.12.0->curl_cffi>=0.7->yfinance) (2.23)\n"
          ]
        }
      ],
      "source": [
        "!pip install pandas_market_calendars\n",
        "!pip install yfinance scikit-learn xgboost matplotlib\n",
        "import yfinance as yf\n",
        "import pandas as pd\n",
        "import numpy as np\n",
        "from datetime import datetime, timedelta\n",
        "import pandas_market_calendars as mcal\n",
        "import matplotlib.pyplot as plt\n",
        "\n",
        "# ไลบรารีสำหรับ Machine Learning\n",
        "from sklearn.model_selection import train_test_split\n",
        "from sklearn.linear_model import LinearRegression, Ridge, Lasso\n",
        "from sklearn.ensemble import RandomForestRegressor, GradientBoostingRegressor\n",
        "from sklearn.tree import DecisionTreeRegressor\n",
        "from sklearn.neighbors import KNeighborsRegressor\n",
        "from sklearn.svm import SVR\n",
        "from xgboost import XGBRegressor\n",
        "from sklearn.metrics import mean_squared_error, r2_score, mean_absolute_error\n",
        "from sklearn.preprocessing import StandardScaler"
      ]
    },
    {
      "cell_type": "code",
      "source": [
        "\n",
        "# ------------------------------\n",
        "# 0. กำหนด list หุ้นทั้งหมด\n",
        "# ------------------------------\n",
        "tickers = [\"AAPL\", \"AMD\", \"AVGO\", \"GOOG\", \"GOOGL\", \"META\", \"MSFT\", \"NVDA\"]\n",
        "\n",
        "# กำหนดช่วงวันที่\n",
        "start_date = datetime(2019, 1, 1)\n",
        "end_date   = datetime(2024, 12, 31)\n",
        "\n",
        "all_data_list = []\n",
        "\n",
        "# ------------------------------\n",
        "# 1. ดาวน์โหลดข้อมูลหุ้นทั้งหมด\n",
        "# ------------------------------\n",
        "for ticker in tickers:\n",
        "    print(f\"📥 Downloading {ticker} ...\")\n",
        "    data = yf.download(ticker, start=start_date.strftime('%Y-%m-%d'), end=end_date.strftime('%Y-%m-%d'))\n",
        "\n",
        "    if data.empty:\n",
        "        print(f\"❌ No data for {ticker}\")\n",
        "        continue\n",
        "\n",
        "    data.reset_index(inplace=True)\n",
        "\n",
        "    if isinstance(data.columns, pd.MultiIndex):\n",
        "        data.columns = [' '.join(col).strip() if isinstance(col, tuple) else col for col in data.columns.values]\n",
        "\n",
        "    def clean_columns(cols):\n",
        "        cleaned = []\n",
        "        for col in cols:\n",
        "            if 'Date' in col:\n",
        "                cleaned.append('Date')\n",
        "            else:\n",
        "                cleaned.append(col.split()[0])\n",
        "        return cleaned\n",
        "\n",
        "    data.columns = clean_columns(data.columns)\n",
        "    data['Symbol'] = ticker.upper()\n",
        "\n",
        "    wanted_cols = ['Date', 'Close', 'Symbol']\n",
        "    data = data[[col for col in wanted_cols if col in data.columns]]\n",
        "\n",
        "    all_data_list.append(data)\n",
        "\n",
        "# Concatenate all dataframes in the list into a single dataframe\n",
        "flat_df = pd.concat(all_data_list, ignore_index=True)\n",
        "\n"
      ],
      "metadata": {
        "collapsed": true,
        "colab": {
          "base_uri": "https://localhost:8080/"
        },
        "id": "G6vFalnSqLRU",
        "outputId": "4185d0a4-2145-46ae-d390-15e90e594d77"
      },
      "execution_count": null,
      "outputs": [
        {
          "output_type": "stream",
          "name": "stdout",
          "text": [
            "📥 Downloading AAPL ...\n"
          ]
        },
        {
          "output_type": "stream",
          "name": "stderr",
          "text": [
            "/tmp/ipython-input-721676466.py:17: FutureWarning: YF.download() has changed argument auto_adjust default to True\n",
            "  data = yf.download(ticker, start=start_date.strftime('%Y-%m-%d'), end=end_date.strftime('%Y-%m-%d'))\n",
            "[*********************100%***********************]  1 of 1 completed\n",
            "/tmp/ipython-input-721676466.py:17: FutureWarning: YF.download() has changed argument auto_adjust default to True\n",
            "  data = yf.download(ticker, start=start_date.strftime('%Y-%m-%d'), end=end_date.strftime('%Y-%m-%d'))\n"
          ]
        },
        {
          "output_type": "stream",
          "name": "stdout",
          "text": [
            "📥 Downloading AMD ...\n"
          ]
        },
        {
          "output_type": "stream",
          "name": "stderr",
          "text": [
            "\r[*********************100%***********************]  1 of 1 completed\n",
            "/tmp/ipython-input-721676466.py:17: FutureWarning: YF.download() has changed argument auto_adjust default to True\n",
            "  data = yf.download(ticker, start=start_date.strftime('%Y-%m-%d'), end=end_date.strftime('%Y-%m-%d'))\n"
          ]
        },
        {
          "output_type": "stream",
          "name": "stdout",
          "text": [
            "📥 Downloading AVGO ...\n"
          ]
        },
        {
          "output_type": "stream",
          "name": "stderr",
          "text": [
            "\r[*********************100%***********************]  1 of 1 completed\n",
            "/tmp/ipython-input-721676466.py:17: FutureWarning: YF.download() has changed argument auto_adjust default to True\n",
            "  data = yf.download(ticker, start=start_date.strftime('%Y-%m-%d'), end=end_date.strftime('%Y-%m-%d'))\n"
          ]
        },
        {
          "output_type": "stream",
          "name": "stdout",
          "text": [
            "📥 Downloading GOOG ...\n"
          ]
        },
        {
          "output_type": "stream",
          "name": "stderr",
          "text": [
            "\r[*********************100%***********************]  1 of 1 completed\n",
            "/tmp/ipython-input-721676466.py:17: FutureWarning: YF.download() has changed argument auto_adjust default to True\n",
            "  data = yf.download(ticker, start=start_date.strftime('%Y-%m-%d'), end=end_date.strftime('%Y-%m-%d'))\n"
          ]
        },
        {
          "output_type": "stream",
          "name": "stdout",
          "text": [
            "📥 Downloading GOOGL ...\n"
          ]
        },
        {
          "output_type": "stream",
          "name": "stderr",
          "text": [
            "\r[*********************100%***********************]  1 of 1 completed\n",
            "/tmp/ipython-input-721676466.py:17: FutureWarning: YF.download() has changed argument auto_adjust default to True\n",
            "  data = yf.download(ticker, start=start_date.strftime('%Y-%m-%d'), end=end_date.strftime('%Y-%m-%d'))\n"
          ]
        },
        {
          "output_type": "stream",
          "name": "stdout",
          "text": [
            "📥 Downloading META ...\n"
          ]
        },
        {
          "output_type": "stream",
          "name": "stderr",
          "text": [
            "\r[*********************100%***********************]  1 of 1 completed\n",
            "/tmp/ipython-input-721676466.py:17: FutureWarning: YF.download() has changed argument auto_adjust default to True\n",
            "  data = yf.download(ticker, start=start_date.strftime('%Y-%m-%d'), end=end_date.strftime('%Y-%m-%d'))\n"
          ]
        },
        {
          "output_type": "stream",
          "name": "stdout",
          "text": [
            "📥 Downloading MSFT ...\n"
          ]
        },
        {
          "output_type": "stream",
          "name": "stderr",
          "text": [
            "\r[*********************100%***********************]  1 of 1 completed\n",
            "/tmp/ipython-input-721676466.py:17: FutureWarning: YF.download() has changed argument auto_adjust default to True\n",
            "  data = yf.download(ticker, start=start_date.strftime('%Y-%m-%d'), end=end_date.strftime('%Y-%m-%d'))\n"
          ]
        },
        {
          "output_type": "stream",
          "name": "stdout",
          "text": [
            "📥 Downloading NVDA ...\n"
          ]
        },
        {
          "output_type": "stream",
          "name": "stderr",
          "text": [
            "\r[*********************100%***********************]  1 of 1 completed\n"
          ]
        }
      ]
    },
    {
      "cell_type": "code",
      "source": [
        "# สร้าง lag ของราคาย้อนหลัง 7 วัน (Close_lag1 ... Close_lag7)\n",
        "for lag in range(1, 8):  # 1 ถึง 7 วัน\n",
        "    flat_df[f'Close_lag{lag}'] = flat_df.groupby('Symbol')['Close'].shift(lag)\n",
        "# 9. สร้าง Target: Close ของวันถัดไป\n",
        "flat_df['Close_next'] = flat_df.groupby('Symbol')['Close'].shift(-1)\n",
        "\n",
        "# 10. สร้าง Feature Matrix X\n",
        "lag_cols = [f'Close_lag{i}' for i in range(1,8)]  # Close_lag1 ... Close_lag7\n",
        "\n",
        "X_cols = lag_cols\n",
        "X = flat_df[X_cols]\n",
        "# Target\n",
        "y = flat_df['Close_next']\n",
        "\n",
        "# ตรวจสอบตัวอย่าง\n",
        "print(\"Feature Matrix X:\")\n",
        "print(X.head(10))\n",
        "print(\"\\nTarget y:\")\n",
        "print(y.head(10))\n",
        "\n",
        "# 11. ลบ row ที่มี NaN ใน X หรือ y\n",
        "data_ml = pd.concat([X, y], axis=1)  # รวม X และ y ชั่วคราว\n",
        "data_ml_clean = data_ml.dropna().reset_index(drop=True)\n",
        "\n",
        "# แยกกลับเป็น X และ y\n",
        "X_clean = data_ml_clean[X_cols]\n",
        "y_clean = data_ml_clean['Close_next']\n",
        "\n",
        "# ตรวจสอบตัวอย่าง\n",
        "print(\"Feature Matrix X (clean):\")\n",
        "print(X_clean.head(10))\n",
        "print(\"\\nTarget y (clean):\")\n",
        "print(y_clean.head(10))\n",
        "\n",
        "import numpy as np\n",
        "from sklearn.preprocessing import StandardScaler\n",
        "from sklearn.linear_model import LinearRegression\n",
        "from sklearn.ensemble import RandomForestRegressor, GradientBoostingRegressor\n",
        "from xgboost import XGBRegressor\n",
        "from sklearn.svm import SVR\n",
        "from sklearn.metrics import mean_squared_error, mean_absolute_error, r2_score\n",
        "import pandas as pd\n",
        "\n",
        "import pandas as pd\n",
        "import numpy as np\n",
        "from sklearn.preprocessing import StandardScaler\n",
        "from sklearn.linear_model import LinearRegression\n",
        "from sklearn.ensemble import RandomForestRegressor, GradientBoostingRegressor\n",
        "from xgboost import XGBRegressor\n",
        "from sklearn.svm import SVR\n",
        "from sklearn.metrics import mean_squared_error, mean_absolute_error, r2_score\n",
        "\n",
        "# ตั้งค่า Sliding Window\n",
        "window_train = 0.7\n",
        "window_test = 0.15\n",
        "\n",
        "# เตรียมโมเดล\n",
        "models = {\n",
        "    'Linear': LinearRegression(),\n",
        "    'RandomForest': RandomForestRegressor(n_estimators=100, random_state=42),\n",
        "    'GradientBoosting': GradientBoostingRegressor(n_estimators=100, random_state=42),\n",
        "    'XGBoost': XGBRegressor(n_estimators=100, random_state=42, verbosity=0),\n",
        "    'SVR': SVR()\n",
        "}\n",
        "\n",
        "# ตัวแปรเก็บผลลัพธ์ทั้งหมด\n",
        "all_results = []\n",
        "\n",
        "# สมมติว่าเรา assign Model Name เอง\n",
        "model_name = \"Model 1 nointerp_lag7_5 models\"\n",
        "\n",
        "# Loop แต่ละ Symbol\n",
        "symbols = flat_df['Symbol'].unique()\n",
        "lag_cols = [f'Close_lag{i}' for i in range(1, 8)]\n",
        "X_cols = lag_cols\n",
        "\n",
        "for sym in symbols:\n",
        "    df_sym = flat_df[flat_df['Symbol'] == sym].sort_values('Date').reset_index(drop=True)\n",
        "\n",
        "    # Feature & Target\n",
        "    X = df_sym[X_cols]\n",
        "    y = df_sym['Close_next']\n",
        "\n",
        "    # ลบ NaN\n",
        "    data_ml = pd.concat([X, y], axis=1).dropna().reset_index(drop=True)\n",
        "    X_clean = data_ml[X_cols]\n",
        "    y_clean = data_ml['Close_next']\n",
        "\n",
        "    n = len(X_clean)\n",
        "    step = int(n * window_test)\n",
        "    start = 0\n",
        "\n",
        "    # Sliding Window\n",
        "    while start + int(n * window_train) + step <= n:\n",
        "        train_idx = range(start, start + int(n*window_train))\n",
        "        test_idx  = range(start + int(n*window_train), start + int(n*window_train) + step)\n",
        "\n",
        "        X_train = X_clean.iloc[train_idx].values\n",
        "        y_train = y_clean.iloc[train_idx].values\n",
        "        X_test  = X_clean.iloc[test_idx].values\n",
        "        y_test  = y_clean.iloc[test_idx].values\n",
        "\n",
        "        # Scale Training set\n",
        "        scaler = StandardScaler()\n",
        "        X_train_scaled = scaler.fit_transform(X_train)\n",
        "        X_test_scaled  = scaler.transform(X_test)\n",
        "\n",
        "        # Train & Evaluate ทุกโมเดล\n",
        "        for name, model in models.items():\n",
        "            model.fit(X_train_scaled, y_train)\n",
        "            y_pred = model.predict(X_test_scaled)\n",
        "\n",
        "            all_results.append({\n",
        "                'Symbol': sym,\n",
        "                'model': name,\n",
        "                'start_idx': start,\n",
        "                'rmse': np.sqrt(mean_squared_error(y_test, y_pred)),\n",
        "                'mae': mean_absolute_error(y_test, y_pred),\n",
        "                'r2': r2_score(y_test, y_pred),\n",
        "                'Model Name': model_name\n",
        "            })\n",
        "\n",
        "        start += step\n",
        "\n",
        "# แปลงเป็น DataFrame\n",
        "results_df = pd.DataFrame(all_results)\n",
        "\n",
        "# แสดงผล\n",
        "pd.set_option('display.max_rows', None)\n",
        "print(results_df)\n",
        "\n",
        "# Export ไป Drive (ถ้าเป็น Google Colab)\n",
        "results_df.to_csv('/content/drive/MyDrive/results_all_models.csv', index=False)\n",
        "print(\"✅ Exported results to Drive: results_all_models.csv\")\n"
      ],
      "metadata": {
        "colab": {
          "base_uri": "https://localhost:8080/"
        },
        "id": "WQTxoAporMwp",
        "outputId": "0725ae88-06d6-4bc6-b447-db03fa37ba8b"
      },
      "execution_count": null,
      "outputs": [
        {
          "output_type": "stream",
          "name": "stdout",
          "text": [
            "Feature Matrix X:\n",
            "   Close_lag1  Close_lag2  Close_lag3  Close_lag4  Close_lag5  Close_lag6  \\\n",
            "0         NaN         NaN         NaN         NaN         NaN         NaN   \n",
            "1   37.575214         NaN         NaN         NaN         NaN         NaN   \n",
            "2   33.832443   37.575214         NaN         NaN         NaN         NaN   \n",
            "3   35.276730   33.832443   37.575214         NaN         NaN         NaN   \n",
            "4   35.198208   35.276730   33.832443   37.575214         NaN         NaN   \n",
            "5   35.869186   35.198208   35.276730   33.832443   37.575214         NaN   \n",
            "6   36.478298   35.869186   35.198208   35.276730   33.832443   37.575214   \n",
            "7   36.594906   36.478298   35.869186   35.198208   35.276730   33.832443   \n",
            "8   36.235607   36.594906   36.478298   35.869186   35.198208   35.276730   \n",
            "9   35.690739   36.235607   36.594906   36.478298   35.869186   35.198208   \n",
            "\n",
            "   Close_lag7  \n",
            "0         NaN  \n",
            "1         NaN  \n",
            "2         NaN  \n",
            "3         NaN  \n",
            "4         NaN  \n",
            "5         NaN  \n",
            "6         NaN  \n",
            "7   37.575214  \n",
            "8   33.832443  \n",
            "9   35.276730  \n",
            "\n",
            "Target y:\n",
            "0    33.832443\n",
            "1    35.276730\n",
            "2    35.198208\n",
            "3    35.869186\n",
            "4    36.478298\n",
            "5    36.594906\n",
            "6    36.235607\n",
            "7    35.690739\n",
            "8    36.421204\n",
            "9    36.866142\n",
            "Name: Close_next, dtype: float64\n",
            "Feature Matrix X (clean):\n",
            "   Close_lag1  Close_lag2  Close_lag3  Close_lag4  Close_lag5  Close_lag6  \\\n",
            "0   36.594906   36.478298   35.869186   35.198208   35.276730   33.832443   \n",
            "1   36.235607   36.594906   36.478298   35.869186   35.198208   35.276730   \n",
            "2   35.690739   36.235607   36.594906   36.478298   35.869186   35.198208   \n",
            "3   36.421204   35.690739   36.235607   36.594906   36.478298   35.869186   \n",
            "4   36.866142   36.421204   35.690739   36.235607   36.594906   36.478298   \n",
            "5   37.085056   36.866142   36.421204   35.690739   36.235607   36.594906   \n",
            "6   37.313484   37.085056   36.866142   36.421204   35.690739   36.235607   \n",
            "7   36.475933   37.313484   37.085056   36.866142   36.421204   35.690739   \n",
            "8   36.623451   36.475933   37.313484   37.085056   36.866142   36.421204   \n",
            "9   36.333168   36.623451   36.475933   37.313484   37.085056   36.866142   \n",
            "\n",
            "   Close_lag7  \n",
            "0   37.575214  \n",
            "1   33.832443  \n",
            "2   35.276730  \n",
            "3   35.198208  \n",
            "4   35.869186  \n",
            "5   36.478298  \n",
            "6   36.594906  \n",
            "7   36.235607  \n",
            "8   35.690739  \n",
            "9   36.421204  \n",
            "\n",
            "Target y (clean):\n",
            "0    35.690739\n",
            "1    36.421204\n",
            "2    36.866142\n",
            "3    37.085056\n",
            "4    37.313484\n",
            "5    36.475933\n",
            "6    36.623451\n",
            "7    36.333168\n",
            "8    37.537148\n",
            "9    37.189743\n",
            "Name: Close_next, dtype: float64\n"
          ]
        }
      ]
    },
    {
      "cell_type": "code",
      "source": [
        "# -----------------------------\n",
        "# 1️⃣ Run Sliding Window per Symbol\n",
        "# -----------------------------\n",
        "# (โค้ด Sliding Window ที่ผมเขียนให้ด้านบน)\n",
        "# ผลลัพธ์จะถูกเก็บใน list ชื่อ results\n",
        "\n",
        "# -----------------------------\n",
        "# 2️⃣ เก็บไฟล์ใน Google Drive\n",
        "# -----------------------------\n",
        "from google.colab import drive\n",
        "import pandas as pd\n",
        "\n",
        "# เชื่อม Drive\n",
        "drive.mount('/content/drive')\n",
        "\n",
        "# แปลงเป็น DataFrame\n",
        "df_results = pd.DataFrame(results)\n",
        "\n",
        "# กำหนด path\n",
        "file_path = '/content/drive/MyDrive/all_models_sliding_window_results.csv'\n",
        "\n",
        "# บันทึก CSV\n",
        "df_results.to_csv(file_path, index=False)\n",
        "\n",
        "print(f\"✅ Export เสร็จ! ไฟล์อยู่ที่ {file_path}\")\n"
      ],
      "metadata": {
        "id": "pa7Sg39RyBYc"
      },
      "execution_count": null,
      "outputs": []
    }
  ]
}