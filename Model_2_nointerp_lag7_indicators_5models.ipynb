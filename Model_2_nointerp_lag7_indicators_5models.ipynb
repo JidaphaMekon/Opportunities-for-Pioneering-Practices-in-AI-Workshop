{
  "nbformat": 4,
  "nbformat_minor": 0,
  "metadata": {
    "colab": {
      "provenance": [],
      "authorship_tag": "ABX9TyM3sN6FWu2ATEUJ1Dnn3mME",
      "include_colab_link": true
    },
    "kernelspec": {
      "name": "python3",
      "display_name": "Python 3"
    },
    "language_info": {
      "name": "python"
    }
  },
  "cells": [
    {
      "cell_type": "markdown",
      "metadata": {
        "id": "view-in-github",
        "colab_type": "text"
      },
      "source": [
        "<a href=\"https://colab.research.google.com/github/JidaphaMekon/Opportunities-for-Pioneering-Practices-in-AI-Workshop/blob/main/Model_2_nointerp_lag7_indicators_5models.ipynb\" target=\"_parent\"><img src=\"https://colab.research.google.com/assets/colab-badge.svg\" alt=\"Open In Colab\"/></a>"
      ]
    },
    {
      "cell_type": "markdown",
      "source": [
        "| ขั้นตอน | รายละเอียด                                     |\n",
        "| ------- | ---------------------------------------------- |\n",
        "| 1       | รวบรวมหุ้นหลายตัว (AAPL, MSFT, TSLA, …)        |\n",
        "| 2       | ตรวจวันหยุดตลาด + Interpolation (3 วิธี)       |\n",
        "| 3       | สร้าง features (Lag7, SMA, EMA, BB, RSI, MACD) |\n",
        "| 4       | Scaling train เท่านั้น                         |\n",
        "| 5       | ใช้ TimeSeriesSplit หรือ Sliding 70/15/15      |\n",
        "| 6       | Train หลายโมเดล (Linear, XGB, LSTM, Prophet)   |\n",
        "| 7       | เก็บ RMSE, R² ลง DataFrame                     |\n",
        "| 8       | สรุปเปรียบเทียบผลลัพธ์                         |\n"
      ],
      "metadata": {
        "id": "l9X4g2U9pd_2"
      }
    },
    {
      "cell_type": "code",
      "execution_count": 1,
      "metadata": {
        "id": "FngiNcp8l2Jy",
        "colab": {
          "base_uri": "https://localhost:8080/"
        },
        "outputId": "1273e029-18e0-40ff-ec86-e249725655e0"
      },
      "outputs": [
        {
          "output_type": "stream",
          "name": "stdout",
          "text": [
            "Collecting pandas_market_calendars\n",
            "  Downloading pandas_market_calendars-5.1.1-py3-none-any.whl.metadata (9.7 kB)\n",
            "Requirement already satisfied: pandas>=1.1 in /usr/local/lib/python3.12/dist-packages (from pandas_market_calendars) (2.2.2)\n",
            "Requirement already satisfied: tzdata in /usr/local/lib/python3.12/dist-packages (from pandas_market_calendars) (2025.2)\n",
            "Requirement already satisfied: python-dateutil in /usr/local/lib/python3.12/dist-packages (from pandas_market_calendars) (2.9.0.post0)\n",
            "Collecting exchange-calendars>=3.3 (from pandas_market_calendars)\n",
            "  Downloading exchange_calendars-4.11.1-py3-none-any.whl.metadata (38 kB)\n",
            "Requirement already satisfied: numpy in /usr/local/lib/python3.12/dist-packages (from exchange-calendars>=3.3->pandas_market_calendars) (2.0.2)\n",
            "Collecting pyluach (from exchange-calendars>=3.3->pandas_market_calendars)\n",
            "  Downloading pyluach-2.3.0-py3-none-any.whl.metadata (4.3 kB)\n",
            "Requirement already satisfied: toolz in /usr/local/lib/python3.12/dist-packages (from exchange-calendars>=3.3->pandas_market_calendars) (0.12.1)\n",
            "Collecting korean_lunar_calendar (from exchange-calendars>=3.3->pandas_market_calendars)\n",
            "  Downloading korean_lunar_calendar-0.3.1-py3-none-any.whl.metadata (2.8 kB)\n",
            "Requirement already satisfied: pytz>=2020.1 in /usr/local/lib/python3.12/dist-packages (from pandas>=1.1->pandas_market_calendars) (2025.2)\n",
            "Requirement already satisfied: six>=1.5 in /usr/local/lib/python3.12/dist-packages (from python-dateutil->pandas_market_calendars) (1.17.0)\n",
            "Downloading pandas_market_calendars-5.1.1-py3-none-any.whl (127 kB)\n",
            "\u001b[2K   \u001b[90m━━━━━━━━━━━━━━━━━━━━━━━━━━━━━━━━━━━━━━━━\u001b[0m \u001b[32m127.4/127.4 kB\u001b[0m \u001b[31m9.6 MB/s\u001b[0m eta \u001b[36m0:00:00\u001b[0m\n",
            "\u001b[?25hDownloading exchange_calendars-4.11.1-py3-none-any.whl (208 kB)\n",
            "\u001b[2K   \u001b[90m━━━━━━━━━━━━━━━━━━━━━━━━━━━━━━━━━━━━━━━━\u001b[0m \u001b[32m208.9/208.9 kB\u001b[0m \u001b[31m6.4 MB/s\u001b[0m eta \u001b[36m0:00:00\u001b[0m\n",
            "\u001b[?25hDownloading korean_lunar_calendar-0.3.1-py3-none-any.whl (9.0 kB)\n",
            "Downloading pyluach-2.3.0-py3-none-any.whl (25 kB)\n",
            "Installing collected packages: korean_lunar_calendar, pyluach, exchange-calendars, pandas_market_calendars\n",
            "Successfully installed exchange-calendars-4.11.1 korean_lunar_calendar-0.3.1 pandas_market_calendars-5.1.1 pyluach-2.3.0\n",
            "Requirement already satisfied: yfinance in /usr/local/lib/python3.12/dist-packages (0.2.66)\n",
            "Requirement already satisfied: scikit-learn in /usr/local/lib/python3.12/dist-packages (1.6.1)\n",
            "Requirement already satisfied: xgboost in /usr/local/lib/python3.12/dist-packages (3.0.5)\n",
            "Requirement already satisfied: matplotlib in /usr/local/lib/python3.12/dist-packages (3.10.0)\n",
            "Requirement already satisfied: pandas>=1.3.0 in /usr/local/lib/python3.12/dist-packages (from yfinance) (2.2.2)\n",
            "Requirement already satisfied: numpy>=1.16.5 in /usr/local/lib/python3.12/dist-packages (from yfinance) (2.0.2)\n",
            "Requirement already satisfied: requests>=2.31 in /usr/local/lib/python3.12/dist-packages (from yfinance) (2.32.4)\n",
            "Requirement already satisfied: multitasking>=0.0.7 in /usr/local/lib/python3.12/dist-packages (from yfinance) (0.0.12)\n",
            "Requirement already satisfied: platformdirs>=2.0.0 in /usr/local/lib/python3.12/dist-packages (from yfinance) (4.4.0)\n",
            "Requirement already satisfied: pytz>=2022.5 in /usr/local/lib/python3.12/dist-packages (from yfinance) (2025.2)\n",
            "Requirement already satisfied: frozendict>=2.3.4 in /usr/local/lib/python3.12/dist-packages (from yfinance) (2.4.6)\n",
            "Requirement already satisfied: peewee>=3.16.2 in /usr/local/lib/python3.12/dist-packages (from yfinance) (3.18.2)\n",
            "Requirement already satisfied: beautifulsoup4>=4.11.1 in /usr/local/lib/python3.12/dist-packages (from yfinance) (4.13.5)\n",
            "Requirement already satisfied: curl_cffi>=0.7 in /usr/local/lib/python3.12/dist-packages (from yfinance) (0.13.0)\n",
            "Requirement already satisfied: protobuf>=3.19.0 in /usr/local/lib/python3.12/dist-packages (from yfinance) (5.29.5)\n",
            "Requirement already satisfied: websockets>=13.0 in /usr/local/lib/python3.12/dist-packages (from yfinance) (15.0.1)\n",
            "Requirement already satisfied: scipy>=1.6.0 in /usr/local/lib/python3.12/dist-packages (from scikit-learn) (1.16.2)\n",
            "Requirement already satisfied: joblib>=1.2.0 in /usr/local/lib/python3.12/dist-packages (from scikit-learn) (1.5.2)\n",
            "Requirement already satisfied: threadpoolctl>=3.1.0 in /usr/local/lib/python3.12/dist-packages (from scikit-learn) (3.6.0)\n",
            "Requirement already satisfied: nvidia-nccl-cu12 in /usr/local/lib/python3.12/dist-packages (from xgboost) (2.27.3)\n",
            "Requirement already satisfied: contourpy>=1.0.1 in /usr/local/lib/python3.12/dist-packages (from matplotlib) (1.3.3)\n",
            "Requirement already satisfied: cycler>=0.10 in /usr/local/lib/python3.12/dist-packages (from matplotlib) (0.12.1)\n",
            "Requirement already satisfied: fonttools>=4.22.0 in /usr/local/lib/python3.12/dist-packages (from matplotlib) (4.60.1)\n",
            "Requirement already satisfied: kiwisolver>=1.3.1 in /usr/local/lib/python3.12/dist-packages (from matplotlib) (1.4.9)\n",
            "Requirement already satisfied: packaging>=20.0 in /usr/local/lib/python3.12/dist-packages (from matplotlib) (25.0)\n",
            "Requirement already satisfied: pillow>=8 in /usr/local/lib/python3.12/dist-packages (from matplotlib) (11.3.0)\n",
            "Requirement already satisfied: pyparsing>=2.3.1 in /usr/local/lib/python3.12/dist-packages (from matplotlib) (3.2.5)\n",
            "Requirement already satisfied: python-dateutil>=2.7 in /usr/local/lib/python3.12/dist-packages (from matplotlib) (2.9.0.post0)\n",
            "Requirement already satisfied: soupsieve>1.2 in /usr/local/lib/python3.12/dist-packages (from beautifulsoup4>=4.11.1->yfinance) (2.8)\n",
            "Requirement already satisfied: typing-extensions>=4.0.0 in /usr/local/lib/python3.12/dist-packages (from beautifulsoup4>=4.11.1->yfinance) (4.15.0)\n",
            "Requirement already satisfied: cffi>=1.12.0 in /usr/local/lib/python3.12/dist-packages (from curl_cffi>=0.7->yfinance) (2.0.0)\n",
            "Requirement already satisfied: certifi>=2024.2.2 in /usr/local/lib/python3.12/dist-packages (from curl_cffi>=0.7->yfinance) (2025.8.3)\n",
            "Requirement already satisfied: tzdata>=2022.7 in /usr/local/lib/python3.12/dist-packages (from pandas>=1.3.0->yfinance) (2025.2)\n",
            "Requirement already satisfied: six>=1.5 in /usr/local/lib/python3.12/dist-packages (from python-dateutil>=2.7->matplotlib) (1.17.0)\n",
            "Requirement already satisfied: charset_normalizer<4,>=2 in /usr/local/lib/python3.12/dist-packages (from requests>=2.31->yfinance) (3.4.3)\n",
            "Requirement already satisfied: idna<4,>=2.5 in /usr/local/lib/python3.12/dist-packages (from requests>=2.31->yfinance) (3.10)\n",
            "Requirement already satisfied: urllib3<3,>=1.21.1 in /usr/local/lib/python3.12/dist-packages (from requests>=2.31->yfinance) (2.5.0)\n",
            "Requirement already satisfied: pycparser in /usr/local/lib/python3.12/dist-packages (from cffi>=1.12.0->curl_cffi>=0.7->yfinance) (2.23)\n"
          ]
        }
      ],
      "source": [
        "!pip install pandas_market_calendars\n",
        "!pip install yfinance scikit-learn xgboost matplotlib\n",
        "import yfinance as yf\n",
        "import pandas as pd\n",
        "import numpy as np\n",
        "from datetime import datetime, timedelta\n",
        "import pandas_market_calendars as mcal\n",
        "import matplotlib.pyplot as plt\n",
        "\n",
        "# ไลบรารีสำหรับ Machine Learning\n",
        "from sklearn.model_selection import train_test_split\n",
        "from sklearn.linear_model import LinearRegression, Ridge, Lasso\n",
        "from sklearn.ensemble import RandomForestRegressor, GradientBoostingRegressor\n",
        "from sklearn.tree import DecisionTreeRegressor\n",
        "from sklearn.neighbors import KNeighborsRegressor\n",
        "from sklearn.svm import SVR\n",
        "from xgboost import XGBRegressor\n",
        "from sklearn.metrics import mean_squared_error, r2_score, mean_absolute_error\n",
        "from sklearn.preprocessing import StandardScaler"
      ]
    },
    {
      "cell_type": "code",
      "source": [
        "\n",
        "# ------------------------------\n",
        "# 0. กำหนด list หุ้นทั้งหมด\n",
        "# ------------------------------\n",
        "tickers = [\"AAPL\", \"AMD\", \"AVGO\", \"GOOG\", \"GOOGL\", \"META\", \"MSFT\", \"NVDA\"]\n",
        "\n",
        "# กำหนดช่วงวันที่\n",
        "start_date = datetime(2019, 1, 1)\n",
        "end_date   = datetime(2024, 12, 31)\n",
        "\n",
        "all_data_list = []\n",
        "\n",
        "# ------------------------------\n",
        "# 1. ดาวน์โหลดข้อมูลหุ้นทั้งหมด\n",
        "# ------------------------------\n",
        "for ticker in tickers:\n",
        "    print(f\"📥 Downloading {ticker} ...\")\n",
        "    data = yf.download(ticker, start=start_date.strftime('%Y-%m-%d'), end=end_date.strftime('%Y-%m-%d'))\n",
        "\n",
        "    if data.empty:\n",
        "        print(f\"❌ No data for {ticker}\")\n",
        "        continue\n",
        "\n",
        "    data.reset_index(inplace=True)\n",
        "\n",
        "    if isinstance(data.columns, pd.MultiIndex):\n",
        "        data.columns = [' '.join(col).strip() if isinstance(col, tuple) else col for col in data.columns.values]\n",
        "\n",
        "    def clean_columns(cols):\n",
        "        cleaned = []\n",
        "        for col in cols:\n",
        "            if 'Date' in col:\n",
        "                cleaned.append('Date')\n",
        "            else:\n",
        "                cleaned.append(col.split()[0])\n",
        "        return cleaned\n",
        "\n",
        "    data.columns = clean_columns(data.columns)\n",
        "    data['Symbol'] = ticker.upper()\n",
        "\n",
        "    wanted_cols = ['Date', 'Close', 'Symbol']\n",
        "    data = data[[col for col in wanted_cols if col in data.columns]]\n",
        "\n",
        "    all_data_list.append(data)\n",
        "\n",
        "# Concatenate all dataframes in the list into a single dataframe\n",
        "flat_df = pd.concat(all_data_list, ignore_index=True)\n",
        "\n"
      ],
      "metadata": {
        "collapsed": true,
        "id": "G6vFalnSqLRU",
        "outputId": "3027b9e5-4a75-4ede-d5c8-4967f0eefcbb",
        "colab": {
          "base_uri": "https://localhost:8080/"
        }
      },
      "execution_count": 2,
      "outputs": [
        {
          "output_type": "stream",
          "name": "stdout",
          "text": [
            "📥 Downloading AAPL ...\n"
          ]
        },
        {
          "output_type": "stream",
          "name": "stderr",
          "text": [
            "/tmp/ipython-input-721676466.py:17: FutureWarning: YF.download() has changed argument auto_adjust default to True\n",
            "  data = yf.download(ticker, start=start_date.strftime('%Y-%m-%d'), end=end_date.strftime('%Y-%m-%d'))\n",
            "[*********************100%***********************]  1 of 1 completed\n",
            "/tmp/ipython-input-721676466.py:17: FutureWarning: YF.download() has changed argument auto_adjust default to True\n",
            "  data = yf.download(ticker, start=start_date.strftime('%Y-%m-%d'), end=end_date.strftime('%Y-%m-%d'))\n"
          ]
        },
        {
          "output_type": "stream",
          "name": "stdout",
          "text": [
            "📥 Downloading AMD ...\n"
          ]
        },
        {
          "output_type": "stream",
          "name": "stderr",
          "text": [
            "\r[*********************100%***********************]  1 of 1 completed\n",
            "/tmp/ipython-input-721676466.py:17: FutureWarning: YF.download() has changed argument auto_adjust default to True\n",
            "  data = yf.download(ticker, start=start_date.strftime('%Y-%m-%d'), end=end_date.strftime('%Y-%m-%d'))\n"
          ]
        },
        {
          "output_type": "stream",
          "name": "stdout",
          "text": [
            "📥 Downloading AVGO ...\n"
          ]
        },
        {
          "output_type": "stream",
          "name": "stderr",
          "text": [
            "\r[*********************100%***********************]  1 of 1 completed\n",
            "/tmp/ipython-input-721676466.py:17: FutureWarning: YF.download() has changed argument auto_adjust default to True\n",
            "  data = yf.download(ticker, start=start_date.strftime('%Y-%m-%d'), end=end_date.strftime('%Y-%m-%d'))\n"
          ]
        },
        {
          "output_type": "stream",
          "name": "stdout",
          "text": [
            "📥 Downloading GOOG ...\n"
          ]
        },
        {
          "output_type": "stream",
          "name": "stderr",
          "text": [
            "\r[*********************100%***********************]  1 of 1 completed\n",
            "/tmp/ipython-input-721676466.py:17: FutureWarning: YF.download() has changed argument auto_adjust default to True\n",
            "  data = yf.download(ticker, start=start_date.strftime('%Y-%m-%d'), end=end_date.strftime('%Y-%m-%d'))\n"
          ]
        },
        {
          "output_type": "stream",
          "name": "stdout",
          "text": [
            "📥 Downloading GOOGL ...\n"
          ]
        },
        {
          "output_type": "stream",
          "name": "stderr",
          "text": [
            "\r[*********************100%***********************]  1 of 1 completed\n",
            "/tmp/ipython-input-721676466.py:17: FutureWarning: YF.download() has changed argument auto_adjust default to True\n",
            "  data = yf.download(ticker, start=start_date.strftime('%Y-%m-%d'), end=end_date.strftime('%Y-%m-%d'))\n"
          ]
        },
        {
          "output_type": "stream",
          "name": "stdout",
          "text": [
            "📥 Downloading META ...\n"
          ]
        },
        {
          "output_type": "stream",
          "name": "stderr",
          "text": [
            "\r[*********************100%***********************]  1 of 1 completed\n",
            "/tmp/ipython-input-721676466.py:17: FutureWarning: YF.download() has changed argument auto_adjust default to True\n",
            "  data = yf.download(ticker, start=start_date.strftime('%Y-%m-%d'), end=end_date.strftime('%Y-%m-%d'))\n"
          ]
        },
        {
          "output_type": "stream",
          "name": "stdout",
          "text": [
            "📥 Downloading MSFT ...\n"
          ]
        },
        {
          "output_type": "stream",
          "name": "stderr",
          "text": [
            "\r[*********************100%***********************]  1 of 1 completed\n",
            "/tmp/ipython-input-721676466.py:17: FutureWarning: YF.download() has changed argument auto_adjust default to True\n",
            "  data = yf.download(ticker, start=start_date.strftime('%Y-%m-%d'), end=end_date.strftime('%Y-%m-%d'))\n"
          ]
        },
        {
          "output_type": "stream",
          "name": "stdout",
          "text": [
            "📥 Downloading NVDA ...\n"
          ]
        },
        {
          "output_type": "stream",
          "name": "stderr",
          "text": [
            "\r[*********************100%***********************]  1 of 1 completed\n"
          ]
        }
      ]
    },
    {
      "cell_type": "code",
      "source": [
        "!pip install ta"
      ],
      "metadata": {
        "colab": {
          "base_uri": "https://localhost:8080/"
        },
        "id": "hBVoZ_RT5z-3",
        "outputId": "c1e825cc-6ead-4a1d-bcb5-8164003b9317"
      },
      "execution_count": null,
      "outputs": [
        {
          "output_type": "stream",
          "name": "stdout",
          "text": [
            "Collecting ta\n",
            "  Downloading ta-0.11.0.tar.gz (25 kB)\n",
            "  Preparing metadata (setup.py) ... \u001b[?25l\u001b[?25hdone\n",
            "Requirement already satisfied: numpy in /usr/local/lib/python3.12/dist-packages (from ta) (2.0.2)\n",
            "Requirement already satisfied: pandas in /usr/local/lib/python3.12/dist-packages (from ta) (2.2.2)\n",
            "Requirement already satisfied: python-dateutil>=2.8.2 in /usr/local/lib/python3.12/dist-packages (from pandas->ta) (2.9.0.post0)\n",
            "Requirement already satisfied: pytz>=2020.1 in /usr/local/lib/python3.12/dist-packages (from pandas->ta) (2025.2)\n",
            "Requirement already satisfied: tzdata>=2022.7 in /usr/local/lib/python3.12/dist-packages (from pandas->ta) (2025.2)\n",
            "Requirement already satisfied: six>=1.5 in /usr/local/lib/python3.12/dist-packages (from python-dateutil>=2.8.2->pandas->ta) (1.17.0)\n",
            "Building wheels for collected packages: ta\n",
            "  Building wheel for ta (setup.py) ... \u001b[?25l\u001b[?25hdone\n",
            "  Created wheel for ta: filename=ta-0.11.0-py3-none-any.whl size=29412 sha256=986a028d74976fc2e150ba6a28255cc0a6f2fbc331a1390860cb31e7be02a997\n",
            "  Stored in directory: /root/.cache/pip/wheels/5c/a1/5f/c6b85a7d9452057be4ce68a8e45d77ba34234a6d46581777c6\n",
            "Successfully built ta\n"
          ]
        }
      ]
    },
    {
      "cell_type": "code",
      "source": [
        "import pandas as pd\n",
        "import numpy as np\n",
        "from sklearn.preprocessing import StandardScaler\n",
        "from sklearn.linear_model import LinearRegression\n",
        "from sklearn.ensemble import RandomForestRegressor, GradientBoostingRegressor\n",
        "from xgboost import XGBRegressor\n",
        "from sklearn.svm import SVR\n",
        "from sklearn.metrics import mean_squared_error, mean_absolute_error, r2_score\n",
        "import ta\n",
        "\n",
        "# -----------------------------\n",
        "# 0️⃣ สมมติ flat_df มี 'Date', 'Symbol', 'Close'\n",
        "# -----------------------------\n",
        "\n",
        "# 1️⃣ SMA, EMA\n",
        "flat_df['SMA_20'] = flat_df.groupby('Symbol')['Close'].transform(lambda x: x.rolling(20).mean())\n",
        "flat_df['SMA_50'] = flat_df.groupby('Symbol')['Close'].transform(lambda x: x.rolling(50).mean())\n",
        "flat_df['EMA_20'] = flat_df.groupby('Symbol')['Close'].transform(lambda x: x.ewm(span=20, adjust=False).mean())\n",
        "flat_df['EMA_50'] = flat_df.groupby('Symbol')['Close'].transform(lambda x: x.ewm(span=50, adjust=False).mean())\n",
        "\n",
        "# 2️⃣ Bollinger Bands\n",
        "flat_df['BB_middle'] = flat_df.groupby('Symbol')['Close'].transform(lambda x: x.rolling(20).mean())\n",
        "flat_df['BB_std'] = flat_df.groupby('Symbol')['Close'].transform(lambda x: x.rolling(20).std())\n",
        "flat_df['BB_upper'] = flat_df['BB_middle'] + 2 * flat_df['BB_std']\n",
        "flat_df['BB_lower'] = flat_df['BB_middle'] - 2 * flat_df['BB_std']\n",
        "flat_df.drop(columns=['BB_std'], inplace=True)\n",
        "\n",
        "# 3️⃣ Lag 1-7\n",
        "for lag in range(1, 8):\n",
        "    flat_df[f'Close_lag{lag}'] = flat_df.groupby('Symbol')['Close'].shift(lag)\n",
        "\n",
        "# 4️⃣ Target\n",
        "flat_df['Close_next'] = flat_df.groupby('Symbol')['Close'].shift(-1)\n",
        "\n",
        "# 5️⃣ Feature & Target\n",
        "lag_cols = [f'Close_lag{i}' for i in range(1,8)]\n",
        "X_cols = lag_cols\n",
        "X = flat_df[X_cols]\n",
        "y = flat_df['Close_next']\n",
        "\n",
        "# 6️⃣ ลบ NaN\n",
        "data_ml = pd.concat([X, y], axis=1).dropna().reset_index(drop=True)\n",
        "X_clean = data_ml[X_cols]\n",
        "y_clean = data_ml['Close_next']\n",
        "\n",
        "# -----------------------------\n",
        "# 7️⃣ Sliding Window\n",
        "# -----------------------------\n",
        "window_train = 0.7\n",
        "window_test = 0.15\n",
        "\n",
        "models = {\n",
        "    'Linear': LinearRegression(),\n",
        "    'RandomForest': RandomForestRegressor(n_estimators=100, random_state=42),\n",
        "    'GradientBoosting': GradientBoostingRegressor(n_estimators=100, random_state=42),\n",
        "    'XGBoost': XGBRegressor(n_estimators=100, random_state=42, verbosity=0),\n",
        "    'SVR': SVR()\n",
        "}\n",
        "\n",
        "results = []\n",
        "\n",
        "for sym in flat_df['Symbol'].unique():\n",
        "    df_sym = flat_df[flat_df['Symbol']==sym].sort_values('Date').reset_index(drop=True)\n",
        "    X = df_sym[X_cols]\n",
        "    y = df_sym['Close_next']\n",
        "    data_ml = pd.concat([X, y], axis=1).dropna().reset_index(drop=True)\n",
        "    X_clean = data_ml[X_cols]\n",
        "    y_clean = data_ml['Close_next']\n",
        "\n",
        "    n = len(X_clean)\n",
        "    step = int(n * window_test)\n",
        "    start = 0\n",
        "\n",
        "    while start + int(n*window_train) + step <= n:\n",
        "        train_idx = range(start, start + int(n*window_train))\n",
        "        test_idx = range(start + int(n*window_train), start + int(n*window_train) + step)\n",
        "\n",
        "        X_train = X_clean.iloc[train_idx].values\n",
        "        y_train = y_clean.iloc[train_idx].values\n",
        "        X_test  = X_clean.iloc[test_idx].values\n",
        "        y_test  = y_clean.iloc[test_idx].values\n",
        "\n",
        "        # Scale\n",
        "        scaler = StandardScaler()\n",
        "        X_train_scaled = scaler.fit_transform(X_train)\n",
        "        X_test_scaled  = scaler.transform(X_test)\n",
        "\n",
        "        # Train & Evaluate\n",
        "        for name, model in models.items():\n",
        "            model.fit(X_train_scaled, y_train)\n",
        "            y_pred = model.predict(X_test_scaled)\n",
        "            results.append({\n",
        "                'Symbol': sym,\n",
        "                'model': name,\n",
        "                'start_idx': start,\n",
        "                'rmse': np.sqrt(mean_squared_error(y_test, y_pred)),\n",
        "                'mae': mean_absolute_error(y_test, y_pred),\n",
        "                'r2': r2_score(y_test, y_pred)\n",
        "            })\n",
        "\n",
        "        start += step\n",
        "\n",
        "# -----------------------------\n",
        "# 8️⃣ แปลงเป็น DataFrame และแสดงทั้งหมด\n",
        "# -----------------------------\n",
        "results_df = pd.DataFrame(results)\n",
        "pd.set_option('display.max_rows', None)  # แสดงทุก row\n",
        "print(results_df)\n",
        "\n"
      ],
      "metadata": {
        "id": "WQTxoAporMwp"
      },
      "execution_count": null,
      "outputs": []
    },
    {
      "cell_type": "code",
      "source": [
        "from google.colab import drive\n",
        "import pandas as pd\n",
        "\n",
        "# 1️⃣ เชื่อม Google Drive\n",
        "drive.mount('/content/drive')\n",
        "\n",
        "# 2️⃣ สมมติ results เป็น list ของ dict จาก Sliding Window + โมเดลทั้งหมด\n",
        "df_results = pd.DataFrame(results)\n",
        "\n",
        "# 3️⃣ กำหนด path ใน Drive ที่ต้องการบันทึก\n",
        "file_path = '/content/drive/MyDrive/all_models_sliding_window_results.csv'\n",
        "\n",
        "# 4️⃣ Export เป็น CSV\n",
        "df_results.to_csv(file_path, index=False)\n",
        "\n",
        "print(f\"✅ Export เสร็จ! ไฟล์อยู่ที่ {file_path}\")\n"
      ],
      "metadata": {
        "id": "pa7Sg39RyBYc"
      },
      "execution_count": null,
      "outputs": []
    }
  ]
}